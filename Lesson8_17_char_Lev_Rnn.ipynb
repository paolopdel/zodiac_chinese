{
  "nbformat": 4,
  "nbformat_minor": 0,
  "metadata": {
    "kernelspec": {
      "name": "python3",
      "display_name": "Python 3"
    },
    "language_info": {
      "codemirror_mode": {
        "name": "ipython",
        "version": 3
      },
      "file_extension": ".py",
      "mimetype": "text/x-python",
      "name": "python",
      "nbconvert_exporter": "python",
      "pygments_lexer": "ipython3",
      "version": "3.7.4"
    },
    "colab": {
      "name": "Lesson8_17_char_Lev_Rnn.ipynb",
      "provenance": [],
      "collapsed_sections": [],
      "include_colab_link": true
    },
    "accelerator": "GPU"
  },
  "cells": [
    {
      "cell_type": "markdown",
      "metadata": {
        "id": "view-in-github",
        "colab_type": "text"
      },
      "source": [
        "<a href=\"https://colab.research.google.com/github/paolopdel/zodiac_chinese/blob/master/Lesson8_17_char_Lev_Rnn.ipynb\" target=\"_parent\"><img src=\"https://colab.research.google.com/assets/colab-badge.svg\" alt=\"Open In Colab\"/></a>"
      ]
    },
    {
      "cell_type": "code",
      "metadata": {
        "id": "-ZlEJW8CYKxk",
        "colab_type": "code",
        "colab": {}
      },
      "source": [
        "import numpy as np\n",
        "import torch\n",
        "from torch import nn\n",
        "import torch.nn.functional as F"
      ],
      "execution_count": 0,
      "outputs": []
    },
    {
      "cell_type": "code",
      "metadata": {
        "id": "TydXojjSYKyV",
        "colab_type": "code",
        "colab": {}
      },
      "source": [
        "# open text file and read in data as `text`\n",
        "with open('data/Output1.txt', 'r') as f:\n",
        "    text = f.read()"
      ],
      "execution_count": 0,
      "outputs": []
    },
    {
      "cell_type": "code",
      "metadata": {
        "id": "_brwIpBXYKy0",
        "colab_type": "code",
        "outputId": "d959da1c-9737-4981-c1e0-64fb8d3a500a",
        "colab": {
          "base_uri": "https://localhost:8080/",
          "height": 36
        }
      },
      "source": [
        "text[:100]\n",
        "#len(text)\n"
      ],
      "execution_count": 0,
      "outputs": [
        {
          "output_type": "execute_result",
          "data": {
            "text/plain": [
              "\"\\ufeffDoesn't take much to make me happy\\nAnd make me smile with glee \\nNever never will I feel discouraged\""
            ]
          },
          "metadata": {
            "tags": []
          },
          "execution_count": 3
        }
      ]
    },
    {
      "cell_type": "code",
      "metadata": {
        "id": "WyGAcmYoYKzT",
        "colab_type": "code",
        "outputId": "fb7a1426-077d-488a-84d0-438d600ccaa1",
        "colab": {
          "base_uri": "https://localhost:8080/",
          "height": 111
        }
      },
      "source": [
        "# encode the text and map each character to an integer and vice versa\n",
        "\n",
        "# we create two dictionaries:\n",
        "# 1. int2char, which maps integers to characters\n",
        "# 2. char2int, which maps characters to unique integers\n",
        "chars = tuple(set(text))\n",
        "print(chars)\n",
        "int2char = dict(enumerate(chars))\n",
        "print(int2char)\n",
        "char2int = {ch: ii for ii, ch in int2char.items()}\n",
        "print(char2int)\n",
        "# encode the text\n",
        "encoded = np.array([char2int[ch] for ch in text])\n",
        "len(chars)\n"
      ],
      "execution_count": 0,
      "outputs": [
        {
          "output_type": "stream",
          "text": [
            "('m', '”', 'é', \"'\", 'w', 'c', '-', '&', '値', 'S', 'D', 'U', 'f', 'j', '1', '[', 'H', 'n', '\"', '“', 'C', 'W', 'B', 'O', 'u', 'ì', 's', '4', 'x', '—', 'y', 'V', '’', '7', 'r', '}', '`', '\\n', 'k', ')', 'M', 'q', '貓', 'K', 'i', ' ', '.', 'h', '_', 'R', 'è', 'F', '…', ';', 'd', 'P', 'Q', 'o', '#', 'Y', ',', 't', 'È', '‘', '2', '\\\\', '\\ufeff', '8', 'à', '3', '0', 'z', 'b', 'p', 'v', 'a', '!', 'I', '(', '{', 'l', ':', 'ù', '5', '´', 'T', 'E', '9', '/', 'ç', ']', '\\t', '?', '6', 'e', '~', 'A', 'Z', 'ã', 'G', 'J', 'g', 'N', '王', 'L')\n",
            "{0: 'm', 1: '”', 2: 'é', 3: \"'\", 4: 'w', 5: 'c', 6: '-', 7: '&', 8: '値', 9: 'S', 10: 'D', 11: 'U', 12: 'f', 13: 'j', 14: '1', 15: '[', 16: 'H', 17: 'n', 18: '\"', 19: '“', 20: 'C', 21: 'W', 22: 'B', 23: 'O', 24: 'u', 25: 'ì', 26: 's', 27: '4', 28: 'x', 29: '—', 30: 'y', 31: 'V', 32: '’', 33: '7', 34: 'r', 35: '}', 36: '`', 37: '\\n', 38: 'k', 39: ')', 40: 'M', 41: 'q', 42: '貓', 43: 'K', 44: 'i', 45: ' ', 46: '.', 47: 'h', 48: '_', 49: 'R', 50: 'è', 51: 'F', 52: '…', 53: ';', 54: 'd', 55: 'P', 56: 'Q', 57: 'o', 58: '#', 59: 'Y', 60: ',', 61: 't', 62: 'È', 63: '‘', 64: '2', 65: '\\\\', 66: '\\ufeff', 67: '8', 68: 'à', 69: '3', 70: '0', 71: 'z', 72: 'b', 73: 'p', 74: 'v', 75: 'a', 76: '!', 77: 'I', 78: '(', 79: '{', 80: 'l', 81: ':', 82: 'ù', 83: '5', 84: '´', 85: 'T', 86: 'E', 87: '9', 88: '/', 89: 'ç', 90: ']', 91: '\\t', 92: '?', 93: '6', 94: 'e', 95: '~', 96: 'A', 97: 'Z', 98: 'ã', 99: 'G', 100: 'J', 101: 'g', 102: 'N', 103: '王', 104: 'L'}\n",
            "{'m': 0, '”': 1, 'é': 2, \"'\": 3, 'w': 4, 'c': 5, '-': 6, '&': 7, '値': 8, 'S': 9, 'D': 10, 'U': 11, 'f': 12, 'j': 13, '1': 14, '[': 15, 'H': 16, 'n': 17, '\"': 18, '“': 19, 'C': 20, 'W': 21, 'B': 22, 'O': 23, 'u': 24, 'ì': 25, 's': 26, '4': 27, 'x': 28, '—': 29, 'y': 30, 'V': 31, '’': 32, '7': 33, 'r': 34, '}': 35, '`': 36, '\\n': 37, 'k': 38, ')': 39, 'M': 40, 'q': 41, '貓': 42, 'K': 43, 'i': 44, ' ': 45, '.': 46, 'h': 47, '_': 48, 'R': 49, 'è': 50, 'F': 51, '…': 52, ';': 53, 'd': 54, 'P': 55, 'Q': 56, 'o': 57, '#': 58, 'Y': 59, ',': 60, 't': 61, 'È': 62, '‘': 63, '2': 64, '\\\\': 65, '\\ufeff': 66, '8': 67, 'à': 68, '3': 69, '0': 70, 'z': 71, 'b': 72, 'p': 73, 'v': 74, 'a': 75, '!': 76, 'I': 77, '(': 78, '{': 79, 'l': 80, ':': 81, 'ù': 82, '5': 83, '´': 84, 'T': 85, 'E': 86, '9': 87, '/': 88, 'ç': 89, ']': 90, '\\t': 91, '?': 92, '6': 93, 'e': 94, '~': 95, 'A': 96, 'Z': 97, 'ã': 98, 'G': 99, 'J': 100, 'g': 101, 'N': 102, '王': 103, 'L': 104}\n"
          ],
          "name": "stdout"
        },
        {
          "output_type": "execute_result",
          "data": {
            "text/plain": [
              "105"
            ]
          },
          "metadata": {
            "tags": []
          },
          "execution_count": 4
        }
      ]
    },
    {
      "cell_type": "code",
      "metadata": {
        "id": "h-5srjNSYKzs",
        "colab_type": "code",
        "outputId": "40128554-2b55-4302-97e6-5df1ef639fcb",
        "colab": {
          "base_uri": "https://localhost:8080/",
          "height": 166
        }
      },
      "source": [
        "encoded[:100]"
      ],
      "execution_count": 0,
      "outputs": [
        {
          "output_type": "execute_result",
          "data": {
            "text/plain": [
              "array([ 66,  10,  57,  94,  26,  17,   3,  61,  45,  61,  75,  38,  94,\n",
              "        45,   0,  24,   5,  47,  45,  61,  57,  45,   0,  75,  38,  94,\n",
              "        45,   0,  94,  45,  47,  75,  73,  73,  30,  37,  96,  17,  54,\n",
              "        45,   0,  75,  38,  94,  45,   0,  94,  45,  26,   0,  44,  80,\n",
              "        94,  45,   4,  44,  61,  47,  45, 101,  80,  94,  94,  45,  37,\n",
              "       102,  94,  74,  94,  34,  45,  17,  94,  74,  94,  34,  45,   4,\n",
              "        44,  80,  80,  45,  77,  45,  12,  94,  94,  80,  45,  54,  44,\n",
              "        26,   5,  57,  24,  34,  75, 101,  94,  54])"
            ]
          },
          "metadata": {
            "tags": []
          },
          "execution_count": 5
        }
      ]
    },
    {
      "cell_type": "code",
      "metadata": {
        "id": "wu3czHiMYK0E",
        "colab_type": "code",
        "colab": {}
      },
      "source": [
        "def one_hot_encode(arr, n_labels):\n",
        "    \n",
        "    # Initialize the the encoded array\n",
        "    one_hot = np.zeros((arr.size, n_labels), dtype=np.float32)\n",
        "    \n",
        "\n",
        "#crea un array: 3 con aggiuna 8 (3,8)\n",
        "    \n",
        "    # Fill the appropriate elements with ones\n",
        "    one_hot[np.arange(one_hot.shape[0]), arr.flatten()] = 1.\n",
        "\n",
        "    \n",
        "    # Finally reshape it to get back to the original array\n",
        "    one_hot = one_hot.reshape((*arr.shape, n_labels))\n",
        "    \n",
        "    return one_hot\n"
      ],
      "execution_count": 0,
      "outputs": []
    },
    {
      "cell_type": "code",
      "metadata": {
        "id": "K7JVgh_2YK0a",
        "colab_type": "code",
        "outputId": "73e14fd6-f2da-4843-f2d1-a37c24d67439",
        "colab": {
          "base_uri": "https://localhost:8080/",
          "height": 73
        }
      },
      "source": [
        "# check that the function works as expected\n",
        "test_seq = np.array([[3, 5, 1]])\n",
        "one_hot = one_hot_encode(test_seq, 8)\n",
        "\n",
        "print(one_hot)\n",
        "#print(test_seq)   #[[3 5 1]]\n",
        "#print(test_seq.shape)#(1, 3)\n",
        "#print(test_seq.size)   #3\n",
        "#print(test_seq.flatten())  #[3 5 1]\n",
        "#print(test_seq) #[[3 5 1]]\n",
        "#arange che si trova nel codice sopra è come for, ma parte da dove si vuole, primo argomento, passo nel secondo arg.\n",
        "#l'array 3,5,1 viene posto come primo arg. "
      ],
      "execution_count": 0,
      "outputs": [
        {
          "output_type": "stream",
          "text": [
            "[[[0. 0. 0. 1. 0. 0. 0. 0.]\n",
            "  [0. 0. 0. 0. 0. 1. 0. 0.]\n",
            "  [0. 1. 0. 0. 0. 0. 0. 0.]]]\n"
          ],
          "name": "stdout"
        }
      ]
    },
    {
      "cell_type": "code",
      "metadata": {
        "id": "uunXKesPYK0x",
        "colab_type": "code",
        "colab": {}
      },
      "source": [
        "#starting sequence: [1 2 3 4 5 6 7 8 9 10 11 12]\n",
        "#Batch size: 2   [1 2 3 4 5 6 ]\n",
        "#               [7 8 9 10 11 12]\n",
        "#sequence lenght: 3  [1 2 3 ......\n",
        "#                    [7 8 9 ......\n"
      ],
      "execution_count": 0,
      "outputs": []
    },
    {
      "cell_type": "code",
      "metadata": {
        "id": "2aPfEkQ7YK1H",
        "colab_type": "code",
        "colab": {}
      },
      "source": [
        "def get_batches(arr, batch_size, seq_length):\n",
        "    '''Create a generator that returns batches of size\n",
        "       batch_size x seq_length from arr.\n",
        "       \n",
        "       Arguments\n",
        "       ---------\n",
        "       arr: Array you want to make batches from\n",
        "       batch_size: Batch size, the number of sequences per batch\n",
        "       seq_length: Number of encoded chars in a sequence\n",
        "    '''\n",
        "    \n",
        "    batch_size_total = batch_size * seq_length\n",
        "    # total number of batches we can make\n",
        "    n_batches = len(arr)//batch_size_total\n",
        "    \n",
        "    # Keep only enough characters to make full batches\n",
        "    arr = arr[:n_batches * batch_size_total]\n",
        "    # Reshape into batch_size rows\n",
        "    arr = arr.reshape((batch_size, -1))\n",
        "    \n",
        "    # iterate through the array, one sequence at a time\n",
        "    for n in range(0, arr.shape[1], seq_length):\n",
        "        # The features\n",
        "        x = arr[:, n:n+seq_length]\n",
        "        # The targets, shifted by one\n",
        "        y = np.zeros_like(x)\n",
        "        try:\n",
        "            y[:, :-1], y[:, -1] = x[:, 1:], arr[:, n+seq_length]\n",
        "        except IndexError:\n",
        "            y[:, :-1], y[:, -1] = x[:, 1:], arr[:, 0]\n",
        "        yield x, y"
      ],
      "execution_count": 0,
      "outputs": []
    },
    {
      "cell_type": "code",
      "metadata": {
        "id": "umkGDK-hYK1d",
        "colab_type": "code",
        "outputId": "ce5656f4-3147-4257-eb23-fa18f5fb4761",
        "colab": {
          "base_uri": "https://localhost:8080/",
          "height": 54
        }
      },
      "source": [
        "batches = get_batches(encoded, 8, 50)\n",
        "x, y = next(batches)\n",
        "print(batches)\n",
        "1985223//400"
      ],
      "execution_count": 0,
      "outputs": [
        {
          "output_type": "stream",
          "text": [
            "<generator object get_batches at 0x7fa29d027e08>\n"
          ],
          "name": "stdout"
        },
        {
          "output_type": "execute_result",
          "data": {
            "text/plain": [
              "4963"
            ]
          },
          "metadata": {
            "tags": []
          },
          "execution_count": 9
        }
      ]
    },
    {
      "cell_type": "code",
      "metadata": {
        "id": "ZwZTPCTeYK11",
        "colab_type": "code",
        "outputId": "bd9e08b2-bc6a-4f93-f9d1-d1890ce862de",
        "colab": {
          "base_uri": "https://localhost:8080/",
          "height": 371
        }
      },
      "source": [
        "# printing out the first 10 items in a sequence\n",
        "print('x\\n', x[:10, :10])\n",
        "print('\\ny\\n', y[:10, :10])"
      ],
      "execution_count": 0,
      "outputs": [
        {
          "output_type": "stream",
          "text": [
            "x\n",
            " [[14 52 38  1  4 27 78 39 76 49]\n",
            " [21  5 80 39  4 52 38  4 39 38]\n",
            " [27 80 18 39  5 78 39 38 39 33]\n",
            " [21 39  4 52 27 39 43 52 12 27]\n",
            " [39 21 38 69 39 52 27 78 39  4]\n",
            " [43 64 21 21 12  5 80 39 38 80]\n",
            " [39 55 80 80 38 39 52 38 18 39]\n",
            " [58  8 16  5 80 21  0 15 77 39]]\n",
            "\n",
            "y\n",
            " [[52 38  1  4 27 78 39 76 49 49]\n",
            " [ 5 80 39  4 52 38  4 39 38  4]\n",
            " [80 18 39  5 78 39 38 39 33  5]\n",
            " [39  4 52 27 39 43 52 12 27 33]\n",
            " [21 38 69 39 52 27 78 39  4 27]\n",
            " [64 21 21 12  5 80 39 38 80 18]\n",
            " [55 80 80 38 39 52 38 18 39 21]\n",
            " [ 8 16  5 80 21  0 15 77 39 79]]\n"
          ],
          "name": "stdout"
        }
      ]
    },
    {
      "cell_type": "code",
      "metadata": {
        "id": "03y96FN4YK2N",
        "colab_type": "code",
        "outputId": "8ba9b622-33f1-4843-8eda-87578f09b347",
        "colab": {
          "base_uri": "https://localhost:8080/",
          "height": 36
        }
      },
      "source": [
        "# check if GPU is available\n",
        "train_on_gpu = torch.cuda.is_available()\n",
        "if(train_on_gpu):\n",
        "    print('Training on GPU!')\n",
        "else: \n",
        "    print('No GPU available, training on CPU; consider making n_epochs very small.')"
      ],
      "execution_count": 0,
      "outputs": [
        {
          "output_type": "stream",
          "text": [
            "Training on GPU!\n"
          ],
          "name": "stdout"
        }
      ]
    },
    {
      "cell_type": "code",
      "metadata": {
        "id": "cksX68WAYK2e",
        "colab_type": "code",
        "colab": {}
      },
      "source": [
        "class CharRNN(nn.Module):\n",
        "    \n",
        "    def __init__(self, tokens, n_hidden=256, n_layers=2,\n",
        "                               drop_prob=0.5, lr=0.001):\n",
        "        super().__init__()\n",
        "        self.drop_prob = drop_prob\n",
        "        self.n_layers = n_layers\n",
        "        self.n_hidden = n_hidden\n",
        "        self.lr = lr\n",
        "        \n",
        "        # creating character dictionaries\n",
        "        self.chars = tokens\n",
        "        self.int2char = dict(enumerate(self.chars))\n",
        "        self.char2int = {ch: ii for ii, ch in self.int2char.items()}\n",
        "        \n",
        "        ## TODO: define the LSTM\n",
        "        self.lstm = nn.LSTM(len(self.chars), n_hidden, n_layers, \n",
        "                            dropout=drop_prob, batch_first=True)\n",
        "        \n",
        "        ## TODO: define a dropout layer\n",
        "        self.dropout = nn.Dropout(drop_prob)\n",
        "        \n",
        "        ## TODO: define the final, fully-connected output layer\n",
        "        self.fc = nn.Linear(n_hidden, len(self.chars))\n",
        "      \n",
        "    \n",
        "    def forward(self, x, hidden):\n",
        "        ''' Forward pass through the network. \n",
        "            These inputs are x, and the hidden/cell state `hidden`. '''\n",
        "                \n",
        "        ## TODO: Get the outputs and the new hidden state from the lstm\n",
        "        r_output, hidden = self.lstm(x, hidden)\n",
        "        \n",
        "        ## TODO: pass through a dropout layer\n",
        "        out = self.dropout(r_output)\n",
        "        \n",
        "        # Stack up LSTM outputs using view\n",
        "        # you may need to use contiguous to reshape the output\n",
        "        out = out.contiguous().view(-1, self.n_hidden)\n",
        "        \n",
        "        ## TODO: put x through the fully-connected layer\n",
        "        out = self.fc(out)\n",
        "        \n",
        "        # return the final output and the hidden state\n",
        "        return out, hidden\n",
        "    \n",
        "    \n",
        "    def init_hidden(self, batch_size):\n",
        "        ''' Initializes hidden state '''\n",
        "        # Create two new tensors with sizes n_layers x batch_size x n_hidden,\n",
        "        # initialized to zero, for hidden state and cell state of LSTM\n",
        "        weight = next(self.parameters()).data\n",
        "        \n",
        "        if (train_on_gpu):\n",
        "            hidden = (weight.new(self.n_layers, batch_size, self.n_hidden).zero_().cuda(),\n",
        "                  weight.new(self.n_layers, batch_size, self.n_hidden).zero_().cuda())\n",
        "        else:\n",
        "            hidden = (weight.new(self.n_layers, batch_size, self.n_hidden).zero_(),\n",
        "                      weight.new(self.n_layers, batch_size, self.n_hidden).zero_())\n",
        "        \n",
        "        return hidden\n",
        "        "
      ],
      "execution_count": 0,
      "outputs": []
    },
    {
      "cell_type": "code",
      "metadata": {
        "id": "0b7CeXISYK2v",
        "colab_type": "code",
        "colab": {}
      },
      "source": [
        "def train(net, data, epochs=10, batch_size=10, seq_length=50, lr=0.001, clip=5, val_frac=0.1, print_every=10):\n",
        "    ''' Training a network \n",
        "    \n",
        "        Arguments\n",
        "        ---------\n",
        "        \n",
        "        net: CharRNN network\n",
        "        data: text data to train the network\n",
        "        epochs: Number of epochs to train\n",
        "        batch_size: Number of mini-sequences per mini-batch, aka batch size\n",
        "        seq_length: Number of character steps per mini-batch\n",
        "        lr: learning rate\n",
        "        clip: gradient clipping\n",
        "        val_frac: Fraction of data to hold out for validation\n",
        "        print_every: Number of steps for printing training and validation loss\n",
        "    \n",
        "    '''\n",
        "    net.train()\n",
        "    \n",
        "    opt = torch.optim.Adam(net.parameters(), lr=lr)\n",
        "    criterion = nn.CrossEntropyLoss()\n",
        "    \n",
        "    # create training and validation data\n",
        "    val_idx = int(len(data)*(1-val_frac))\n",
        "    data, val_data = data[:val_idx], data[val_idx:]\n",
        "    \n",
        "    \n",
        "    if(train_on_gpu):\n",
        "        net.cuda()\n",
        "    \n",
        "    counter = 0\n",
        "    n_chars = len(net.chars)\n",
        "    for e in range(epochs):\n",
        "        # initialize hidden state\n",
        "        h = net.init_hidden(batch_size)\n",
        "        \n",
        "        for x, y in get_batches(data, batch_size, seq_length):\n",
        "            counter += 1\n",
        "            \n",
        "            # One-hot encode our data and make them Torch tensors\n",
        "            x = one_hot_encode(x, n_chars)\n",
        "            inputs, targets = torch.from_numpy(x), torch.from_numpy(y)\n",
        "            \n",
        "            if(train_on_gpu):\n",
        "                inputs, targets = inputs.cuda(), targets.cuda()\n",
        "\n",
        "            # Creating new variables for the hidden state, otherwise\n",
        "            # we'd backprop through the entire training history\n",
        "            #h = tuple([each.data for each in h])\n",
        "            h = tuple([each.data for each in h])\n",
        "            #print(h)\n",
        "            # zero accumulated gradients\n",
        "            net.zero_grad()\n",
        "            \n",
        "            # get the output from the model\n",
        "            output, h = net(inputs, h)\n",
        "            \n",
        "            # calculate the loss and perform backprop\n",
        "            loss = criterion(output, targets.view(batch_size*seq_length).long())\n",
        "            loss.backward()\n",
        "            # `clip_grad_norm` helps prevent the exploding gradient problem in RNNs / LSTMs.\n",
        "            nn.utils.clip_grad_norm_(net.parameters(), clip)\n",
        "            opt.step()\n",
        "            \n",
        "            # loss stats\n",
        "            if counter % print_every == 0:\n",
        "                # Get validation loss\n",
        "                val_h = net.init_hidden(batch_size)\n",
        "                val_losses = []\n",
        "                net.eval()\n",
        "                for x, y in get_batches(val_data, batch_size, seq_length):\n",
        "                    # One-hot encode our data and make them Torch tensors\n",
        "                    x = one_hot_encode(x, n_chars)\n",
        "                    x, y = torch.from_numpy(x), torch.from_numpy(y)\n",
        "                   \n",
        "                    # Creating new variables for the hidden state, otherwise\n",
        "                    # we'd backprop through the entire training history\n",
        "                    val_h = tuple([each.data for each in val_h])\n",
        "                    \n",
        "                    inputs, targets = x, y\n",
        "                    if(train_on_gpu):\n",
        "                        inputs, targets = inputs.cuda(), targets.cuda()\n",
        "\n",
        "                    output, val_h = net(inputs, val_h)\n",
        "                    val_loss = criterion(output, targets.view(batch_size*seq_length).long())\n",
        "                \n",
        "                    val_losses.append(val_loss.item())\n",
        "                \n",
        "                net.train() # reset to train mode after iterationg through validation data\n",
        "                \n",
        "                print(\"Epoch: {}/{}...\".format(e+1, epochs),\n",
        "                      \"Step: {}...\".format(counter),\n",
        "                      \"Loss: {:.4f}...\".format(loss.item()),\n",
        "                      \"Val Loss: {:.4f}\".format(np.mean(val_losses)))\n",
        "\n"
      ],
      "execution_count": 0,
      "outputs": []
    },
    {
      "cell_type": "code",
      "metadata": {
        "id": "HFgwjh7CYK2_",
        "colab_type": "code",
        "outputId": "20f0f6d5-3c62-4b6d-8a11-946746cf5be2",
        "colab": {
          "base_uri": "https://localhost:8080/",
          "height": 74
        }
      },
      "source": [
        "# define and print the net\n",
        "n_hidden=512\n",
        "n_layers=2\n",
        "\n",
        "net = CharRNN(chars, n_hidden, n_layers)\n",
        "print(net.chars)\n",
        "len(net.chars)\n"
      ],
      "execution_count": 0,
      "outputs": [
        {
          "output_type": "stream",
          "text": [
            "('m', '”', 'é', \"'\", 'w', 'c', '-', '&', '値', 'S', 'D', 'U', 'f', 'j', '1', '[', 'H', 'n', '\"', '“', 'C', 'W', 'B', 'O', 'u', 'ì', 's', '4', 'x', '—', 'y', 'V', '’', '7', 'r', '}', '`', '\\n', 'k', ')', 'M', 'q', '貓', 'K', 'i', ' ', '.', 'h', '_', 'R', 'è', 'F', '…', ';', 'd', 'P', 'Q', 'o', '#', 'Y', ',', 't', 'È', '‘', '2', '\\\\', '\\ufeff', '8', 'à', '3', '0', 'z', 'b', 'p', 'v', 'a', '!', 'I', '(', '{', 'l', ':', 'ù', '5', '´', 'T', 'E', '9', '/', 'ç', ']', '\\t', '?', '6', 'e', '~', 'A', 'Z', 'ã', 'G', 'J', 'g', 'N', '王', 'L')\n"
          ],
          "name": "stdout"
        },
        {
          "output_type": "execute_result",
          "data": {
            "text/plain": [
              "105"
            ]
          },
          "metadata": {
            "tags": []
          },
          "execution_count": 13
        }
      ]
    },
    {
      "cell_type": "code",
      "metadata": {
        "id": "kyCWY27_YK3P",
        "colab_type": "code",
        "outputId": "f55e18ad-e1ab-451f-8401-bbc3f3f45cd2",
        "colab": {
          "base_uri": "https://localhost:8080/",
          "height": 1000
        }
      },
      "source": [
        "#batch_size = 128\n",
        "#seq_length = 100\n",
        "#n_epochs = 20 # start smaller if you are just testing initial behavior\n",
        "\n",
        "batch_size = 128\n",
        "seq_length = 100\n",
        "n_epochs = 20 # start smaller if you are just testing initial behavior lr=0.001\n",
        "\n",
        "# train the model\n",
        "train(net, encoded, epochs=n_epochs, batch_size=batch_size, seq_length=seq_length, lr=0.001, print_every=10)"
      ],
      "execution_count": 0,
      "outputs": [
        {
          "output_type": "stream",
          "text": [
            "Epoch: 1/20... Step: 10... Loss: 3.2779... Val Loss: 3.3059\n",
            "Epoch: 1/20... Step: 20... Loss: 3.2103... Val Loss: 3.2270\n",
            "Epoch: 1/20... Step: 30... Loss: 3.1721... Val Loss: 3.2071\n",
            "Epoch: 1/20... Step: 40... Loss: 3.1649... Val Loss: 3.2027\n",
            "Epoch: 1/20... Step: 50... Loss: 3.1333... Val Loss: 3.2007\n",
            "Epoch: 1/20... Step: 60... Loss: 3.1541... Val Loss: 3.1981\n",
            "Epoch: 2/20... Step: 70... Loss: 3.1415... Val Loss: 3.1885\n",
            "Epoch: 2/20... Step: 80... Loss: 3.1264... Val Loss: 3.1798\n",
            "Epoch: 2/20... Step: 90... Loss: 3.0902... Val Loss: 3.1428\n",
            "Epoch: 2/20... Step: 100... Loss: 3.0068... Val Loss: 3.0698\n",
            "Epoch: 2/20... Step: 110... Loss: 2.8855... Val Loss: 2.9292\n",
            "Epoch: 2/20... Step: 120... Loss: 2.7386... Val Loss: 2.8211\n",
            "Epoch: 3/20... Step: 130... Loss: 2.6263... Val Loss: 2.7040\n",
            "Epoch: 3/20... Step: 140... Loss: 2.5291... Val Loss: 2.6077\n",
            "Epoch: 3/20... Step: 150... Loss: 2.4317... Val Loss: 2.5300\n",
            "Epoch: 3/20... Step: 160... Loss: 2.3426... Val Loss: 2.4877\n",
            "Epoch: 3/20... Step: 170... Loss: 2.2890... Val Loss: 2.4491\n",
            "Epoch: 3/20... Step: 180... Loss: 2.2460... Val Loss: 2.4141\n",
            "Epoch: 4/20... Step: 190... Loss: 2.2824... Val Loss: 2.3739\n",
            "Epoch: 4/20... Step: 200... Loss: 2.2074... Val Loss: 2.3401\n",
            "Epoch: 4/20... Step: 210... Loss: 2.1666... Val Loss: 2.3171\n",
            "Epoch: 4/20... Step: 220... Loss: 2.0705... Val Loss: 2.2880\n",
            "Epoch: 4/20... Step: 230... Loss: 2.0983... Val Loss: 2.2625\n",
            "Epoch: 4/20... Step: 240... Loss: 2.0194... Val Loss: 2.2373\n",
            "Epoch: 4/20... Step: 250... Loss: 2.0447... Val Loss: 2.2101\n",
            "Epoch: 5/20... Step: 260... Loss: 2.0015... Val Loss: 2.1943\n",
            "Epoch: 5/20... Step: 270... Loss: 1.9826... Val Loss: 2.1692\n",
            "Epoch: 5/20... Step: 280... Loss: 1.9787... Val Loss: 2.1483\n",
            "Epoch: 5/20... Step: 290... Loss: 1.9721... Val Loss: 2.1329\n",
            "Epoch: 5/20... Step: 300... Loss: 1.9321... Val Loss: 2.1111\n",
            "Epoch: 5/20... Step: 310... Loss: 1.8961... Val Loss: 2.0913\n",
            "Epoch: 6/20... Step: 320... Loss: 1.8786... Val Loss: 2.0708\n",
            "Epoch: 6/20... Step: 330... Loss: 1.8707... Val Loss: 2.0568\n",
            "Epoch: 6/20... Step: 340... Loss: 1.8307... Val Loss: 2.0359\n",
            "Epoch: 6/20... Step: 350... Loss: 1.8377... Val Loss: 2.0267\n",
            "Epoch: 6/20... Step: 360... Loss: 1.7909... Val Loss: 2.0132\n",
            "Epoch: 6/20... Step: 370... Loss: 1.7654... Val Loss: 2.0015\n",
            "Epoch: 7/20... Step: 380... Loss: 1.8206... Val Loss: 1.9795\n",
            "Epoch: 7/20... Step: 390... Loss: 1.7555... Val Loss: 1.9653\n",
            "Epoch: 7/20... Step: 400... Loss: 1.7058... Val Loss: 1.9560\n",
            "Epoch: 7/20... Step: 410... Loss: 1.7124... Val Loss: 1.9443\n",
            "Epoch: 7/20... Step: 420... Loss: 1.7427... Val Loss: 1.9356\n",
            "Epoch: 7/20... Step: 430... Loss: 1.7074... Val Loss: 1.9225\n",
            "Epoch: 7/20... Step: 440... Loss: 1.6769... Val Loss: 1.9138\n",
            "Epoch: 8/20... Step: 450... Loss: 1.6861... Val Loss: 1.9010\n",
            "Epoch: 8/20... Step: 460... Loss: 1.6535... Val Loss: 1.8952\n",
            "Epoch: 8/20... Step: 470... Loss: 1.6529... Val Loss: 1.8834\n",
            "Epoch: 8/20... Step: 480... Loss: 1.6157... Val Loss: 1.8743\n",
            "Epoch: 8/20... Step: 490... Loss: 1.6277... Val Loss: 1.8641\n",
            "Epoch: 8/20... Step: 500... Loss: 1.6617... Val Loss: 1.8537\n",
            "Epoch: 9/20... Step: 510... Loss: 1.6093... Val Loss: 1.8448\n",
            "Epoch: 9/20... Step: 520... Loss: 1.5963... Val Loss: 1.8397\n",
            "Epoch: 9/20... Step: 530... Loss: 1.5610... Val Loss: 1.8352\n",
            "Epoch: 9/20... Step: 540... Loss: 1.5828... Val Loss: 1.8304\n",
            "Epoch: 9/20... Step: 550... Loss: 1.5707... Val Loss: 1.8239\n",
            "Epoch: 9/20... Step: 560... Loss: 1.5637... Val Loss: 1.8171\n",
            "Epoch: 10/20... Step: 570... Loss: 1.5997... Val Loss: 1.8066\n",
            "Epoch: 10/20... Step: 580... Loss: 1.5636... Val Loss: 1.7945\n",
            "Epoch: 10/20... Step: 590... Loss: 1.5676... Val Loss: 1.7905\n",
            "Epoch: 10/20... Step: 600... Loss: 1.5064... Val Loss: 1.7868\n",
            "Epoch: 10/20... Step: 610... Loss: 1.5525... Val Loss: 1.7756\n",
            "Epoch: 10/20... Step: 620... Loss: 1.5468... Val Loss: 1.7729\n",
            "Epoch: 10/20... Step: 630... Loss: 1.5465... Val Loss: 1.7680\n",
            "Epoch: 11/20... Step: 640... Loss: 1.5531... Val Loss: 1.7575\n",
            "Epoch: 11/20... Step: 650... Loss: 1.5070... Val Loss: 1.7530\n",
            "Epoch: 11/20... Step: 660... Loss: 1.4684... Val Loss: 1.7487\n",
            "Epoch: 11/20... Step: 670... Loss: 1.5169... Val Loss: 1.7514\n",
            "Epoch: 11/20... Step: 680... Loss: 1.4930... Val Loss: 1.7398\n",
            "Epoch: 11/20... Step: 690... Loss: 1.4988... Val Loss: 1.7311\n",
            "Epoch: 12/20... Step: 700... Loss: 1.5032... Val Loss: 1.7346\n",
            "Epoch: 12/20... Step: 710... Loss: 1.4520... Val Loss: 1.7230\n",
            "Epoch: 12/20... Step: 720... Loss: 1.4438... Val Loss: 1.7186\n",
            "Epoch: 12/20... Step: 730... Loss: 1.4594... Val Loss: 1.7163\n",
            "Epoch: 12/20... Step: 740... Loss: 1.4922... Val Loss: 1.7149\n",
            "Epoch: 12/20... Step: 750... Loss: 1.4673... Val Loss: 1.7159\n",
            "Epoch: 13/20... Step: 760... Loss: 1.4734... Val Loss: 1.7092\n",
            "Epoch: 13/20... Step: 770... Loss: 1.4492... Val Loss: 1.7040\n",
            "Epoch: 13/20... Step: 780... Loss: 1.4429... Val Loss: 1.6928\n",
            "Epoch: 13/20... Step: 790... Loss: 1.4168... Val Loss: 1.6900\n",
            "Epoch: 13/20... Step: 800... Loss: 1.4278... Val Loss: 1.6853\n",
            "Epoch: 13/20... Step: 810... Loss: 1.4243... Val Loss: 1.6845\n",
            "Epoch: 14/20... Step: 820... Loss: 1.4851... Val Loss: 1.6836\n",
            "Epoch: 14/20... Step: 830... Loss: 1.4184... Val Loss: 1.6800\n",
            "Epoch: 14/20... Step: 840... Loss: 1.3856... Val Loss: 1.6786\n",
            "Epoch: 14/20... Step: 850... Loss: 1.3907... Val Loss: 1.6747\n",
            "Epoch: 14/20... Step: 860... Loss: 1.4146... Val Loss: 1.6724\n",
            "Epoch: 14/20... Step: 870... Loss: 1.3803... Val Loss: 1.6655\n",
            "Epoch: 14/20... Step: 880... Loss: 1.4039... Val Loss: 1.6611\n",
            "Epoch: 15/20... Step: 890... Loss: 1.3863... Val Loss: 1.6631\n",
            "Epoch: 15/20... Step: 900... Loss: 1.3382... Val Loss: 1.6575\n",
            "Epoch: 15/20... Step: 910... Loss: 1.3816... Val Loss: 1.6513\n",
            "Epoch: 15/20... Step: 920... Loss: 1.3761... Val Loss: 1.6569\n",
            "Epoch: 15/20... Step: 930... Loss: 1.3896... Val Loss: 1.6516\n",
            "Epoch: 15/20... Step: 940... Loss: 1.3519... Val Loss: 1.6513\n",
            "Epoch: 16/20... Step: 950... Loss: 1.3518... Val Loss: 1.6440\n",
            "Epoch: 16/20... Step: 960... Loss: 1.3784... Val Loss: 1.6397\n",
            "Epoch: 16/20... Step: 970... Loss: 1.3423... Val Loss: 1.6394\n",
            "Epoch: 16/20... Step: 980... Loss: 1.3680... Val Loss: 1.6484\n",
            "Epoch: 16/20... Step: 990... Loss: 1.3440... Val Loss: 1.6383\n",
            "Epoch: 16/20... Step: 1000... Loss: 1.3198... Val Loss: 1.6436\n",
            "Epoch: 17/20... Step: 1010... Loss: 1.3898... Val Loss: 1.6329\n",
            "Epoch: 17/20... Step: 1020... Loss: 1.3329... Val Loss: 1.6284\n"
          ],
          "name": "stdout"
        }
      ]
    },
    {
      "cell_type": "code",
      "metadata": {
        "id": "vd3SX7ZzYK3f",
        "colab_type": "code",
        "colab": {}
      },
      "source": [
        "# change the name, for saving multiple files\n",
        "model_name = 'rnn_20_epoch.net'\n",
        "\n",
        "checkpoint = {'n_hidden': net.n_hidden,\n",
        "              'n_layers': net.n_layers,\n",
        "              'state_dict': net.state_dict(),\n",
        "              'tokens': net.chars}\n",
        "\n",
        "with open(model_name, 'wb') as f:\n",
        "    torch.save(checkpoint, f)"
      ],
      "execution_count": 0,
      "outputs": []
    },
    {
      "cell_type": "code",
      "metadata": {
        "id": "MRkAIm3uYK3w",
        "colab_type": "code",
        "colab": {}
      },
      "source": [
        "def predict(net, char, h=None, top_k=None):\n",
        "        ''' Given a character, predict the next character.\n",
        "            Returns the predicted character and the hidden state.\n",
        "        '''\n",
        "        \n",
        "        # tensor inputs\n",
        "        x = np.array([[net.char2int[char]]])\n",
        "        #print(x)\n",
        "        x = one_hot_encode(x, len(net.chars))\n",
        "        #print(x)\n",
        "        inputs = torch.from_numpy(x)\n",
        "        \n",
        "        if(train_on_gpu):\n",
        "            inputs = inputs.cuda()\n",
        "        \n",
        "        # detach hidden state from history\n",
        "        h = tuple([each.data for each in h])\n",
        "        # get the output of the model\n",
        "        out, h = net(inputs, h)\n",
        "\n",
        "        # get the character probabilities\n",
        "        p = F.softmax(out, dim=1).data\n",
        "        if(train_on_gpu):\n",
        "            p = p.cpu() # move to cpu\n",
        "        \n",
        "        # get top characters\n",
        "        if top_k is None:\n",
        "            top_ch = np.arange(len(net.chars))\n",
        "        else:\n",
        "            p, top_ch = p.topk(top_k)\n",
        "            #print(top_ch)\n",
        "            #print(p.topk(top_k))\n",
        "            top_ch = top_ch.numpy().squeeze()\n",
        "            #print(top_ch)\n",
        "        \n",
        "        # select the likely next character with some element of randomness\n",
        "        p = p.numpy().squeeze()\n",
        "        char = np.random.choice(top_ch, p=p/p.sum())\n",
        "        #print(char)\n",
        "        \n",
        "        # return the encoded value of the predicted char and the hidden state\n",
        "        return net.int2char[char], h"
      ],
      "execution_count": 0,
      "outputs": []
    },
    {
      "cell_type": "code",
      "metadata": {
        "id": "XTbmautnYK3_",
        "colab_type": "code",
        "colab": {}
      },
      "source": [
        "def sample(net, size, prime='Chapter', top_k=None):\n",
        "        \n",
        "    if(train_on_gpu):\n",
        "        net.cuda()\n",
        "    else:\n",
        "        net.cpu()\n",
        "    \n",
        "    net.eval() # eval mode\n",
        "    \n",
        "    # First off, run through the prime characters\n",
        "    chars = [ch for ch in prime]\n",
        "    h = net.init_hidden(1)\n",
        "    for ch in prime:\n",
        "        char, h = predict(net, ch, h, top_k=top_k)\n",
        "\n",
        "    chars.append(char)\n",
        "    \n",
        "    # Now pass in the previous character and get a new one\n",
        "    for ii in range(size):\n",
        "        char, h = predict(net, chars[-1], h, top_k=top_k)\n",
        "        chars.append(char)\n",
        "\n",
        "    return ''.join(chars)"
      ],
      "execution_count": 0,
      "outputs": []
    },
    {
      "cell_type": "code",
      "metadata": {
        "id": "s2hNF2O8YK4T",
        "colab_type": "code",
        "outputId": "a4877b48-2171-4a03-915b-19d959cc1609",
        "colab": {
          "base_uri": "https://localhost:8080/",
          "height": 174
        }
      },
      "source": [
        "print(sample(net, 1000, prime='Chapter', top_k=5))"
      ],
      "execution_count": 0,
      "outputs": [
        {
          "output_type": "error",
          "ename": "NameError",
          "evalue": "ignored",
          "traceback": [
            "\u001b[0;31m---------------------------------------------------------------------------\u001b[0m",
            "\u001b[0;31mNameError\u001b[0m                                 Traceback (most recent call last)",
            "\u001b[0;32m<ipython-input-6-651102320d9c>\u001b[0m in \u001b[0;36m<module>\u001b[0;34m()\u001b[0m\n\u001b[0;32m----> 1\u001b[0;31m \u001b[0mprint\u001b[0m\u001b[0;34m(\u001b[0m\u001b[0msample\u001b[0m\u001b[0;34m(\u001b[0m\u001b[0mnet\u001b[0m\u001b[0;34m,\u001b[0m \u001b[0;36m1000\u001b[0m\u001b[0;34m,\u001b[0m \u001b[0mprime\u001b[0m\u001b[0;34m=\u001b[0m\u001b[0;34m'Chapter'\u001b[0m\u001b[0;34m,\u001b[0m \u001b[0mtop_k\u001b[0m\u001b[0;34m=\u001b[0m\u001b[0;36m5\u001b[0m\u001b[0;34m)\u001b[0m\u001b[0;34m)\u001b[0m\u001b[0;34m\u001b[0m\u001b[0;34m\u001b[0m\u001b[0m\n\u001b[0m",
            "\u001b[0;31mNameError\u001b[0m: name 'net' is not defined"
          ]
        }
      ]
    }
  ]
}